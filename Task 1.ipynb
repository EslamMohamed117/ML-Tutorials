{
 "cells": [
  {
   "cell_type": "markdown",
   "id": "fa415838",
   "metadata": {},
   "source": [
    "Authors: <b>Eslam Mohamed </b>&<b> Asmaa Khaled</b>\n",
    "<h1>Introduction</h1>\n",
    "\n"
   ]
  },
  {
   "cell_type": "markdown",
   "id": "1d8871c1",
   "metadata": {},
   "source": [
    "Heart disease is one of the leading causes of death for people of most races. Heart disease: high blood pressure, high cholesterol, and smoking. Other key indicator include diabetic status, obesity (high BMI), not getting enough physical activity or drinking too much alcohol. Detecting and preventing the factors that have the greatest impact on heart disease is very important in healthcare."
   ]
  },
  {
   "cell_type": "markdown",
   "id": "86596b36",
   "metadata": {},
   "source": [
    " <h1>Dataset</h1> written by <b>Asmaa Khaled</b>"
   ]
  },
  {
   "cell_type": "markdown",
   "id": "2cdb00dc",
   "metadata": {},
   "source": [
    "The dataset is an indication which variables have a significant effect on the likelihood of heart disease. It contains 18 variables (9 booleans, 5 strings and 4 decimals). In machine learning projects, \"HeartDisease\" can be used as the explonatory variable, but note that the classes are heavily unbalanced."
   ]
  },
  {
   "cell_type": "markdown",
   "id": "476fbb86",
   "metadata": {},
   "source": [
    "<h3>Working with the dataset</h3><br/>\n",
    "<li>Pandas is a Python library used to analyze data.</li>\n",
    "<li>NumPy is a Python library used for working with arrays.</li>"
   ]
  },
  {
   "cell_type": "code",
   "execution_count": 1,
   "id": "55364964",
   "metadata": {},
   "outputs": [],
   "source": [
    "import pandas as pd\n",
    "import numpy as np"
   ]
  },
  {
   "cell_type": "markdown",
   "id": "ce0f8a9c",
   "metadata": {},
   "source": [
    "<li>Loading dataset into DataFrame object.</li>"
   ]
  },
  {
   "cell_type": "code",
   "execution_count": 2,
   "id": "28c6c27a",
   "metadata": {},
   "outputs": [
    {
     "data": {
      "text/html": [
       "<div>\n",
       "<style scoped>\n",
       "    .dataframe tbody tr th:only-of-type {\n",
       "        vertical-align: middle;\n",
       "    }\n",
       "\n",
       "    .dataframe tbody tr th {\n",
       "        vertical-align: top;\n",
       "    }\n",
       "\n",
       "    .dataframe thead th {\n",
       "        text-align: right;\n",
       "    }\n",
       "</style>\n",
       "<table border=\"1\" class=\"dataframe\">\n",
       "  <thead>\n",
       "    <tr style=\"text-align: right;\">\n",
       "      <th></th>\n",
       "      <th>HeartDisease</th>\n",
       "      <th>BMI</th>\n",
       "      <th>Smoking</th>\n",
       "      <th>AlcoholDrinking</th>\n",
       "      <th>Stroke</th>\n",
       "      <th>PhysicalHealth</th>\n",
       "      <th>MentalHealth</th>\n",
       "      <th>DiffWalking</th>\n",
       "      <th>Sex</th>\n",
       "      <th>AgeCategory</th>\n",
       "      <th>Race</th>\n",
       "      <th>Diabetic</th>\n",
       "      <th>PhysicalActivity</th>\n",
       "      <th>GenHealth</th>\n",
       "      <th>SleepTime</th>\n",
       "      <th>Asthma</th>\n",
       "      <th>KidneyDisease</th>\n",
       "      <th>SkinCancer</th>\n",
       "    </tr>\n",
       "  </thead>\n",
       "  <tbody>\n",
       "    <tr>\n",
       "      <th>0</th>\n",
       "      <td>No</td>\n",
       "      <td>16.60</td>\n",
       "      <td>Yes</td>\n",
       "      <td>No</td>\n",
       "      <td>No</td>\n",
       "      <td>3.0</td>\n",
       "      <td>30.0</td>\n",
       "      <td>No</td>\n",
       "      <td>Female</td>\n",
       "      <td>55-59</td>\n",
       "      <td>White</td>\n",
       "      <td>Yes</td>\n",
       "      <td>Yes</td>\n",
       "      <td>Very good</td>\n",
       "      <td>5.0</td>\n",
       "      <td>Yes</td>\n",
       "      <td>No</td>\n",
       "      <td>Yes</td>\n",
       "    </tr>\n",
       "    <tr>\n",
       "      <th>1</th>\n",
       "      <td>No</td>\n",
       "      <td>20.34</td>\n",
       "      <td>No</td>\n",
       "      <td>No</td>\n",
       "      <td>Yes</td>\n",
       "      <td>0.0</td>\n",
       "      <td>0.0</td>\n",
       "      <td>No</td>\n",
       "      <td>Female</td>\n",
       "      <td>80 or older</td>\n",
       "      <td>White</td>\n",
       "      <td>No</td>\n",
       "      <td>Yes</td>\n",
       "      <td>Very good</td>\n",
       "      <td>7.0</td>\n",
       "      <td>No</td>\n",
       "      <td>No</td>\n",
       "      <td>No</td>\n",
       "    </tr>\n",
       "    <tr>\n",
       "      <th>2</th>\n",
       "      <td>No</td>\n",
       "      <td>26.58</td>\n",
       "      <td>Yes</td>\n",
       "      <td>No</td>\n",
       "      <td>No</td>\n",
       "      <td>20.0</td>\n",
       "      <td>30.0</td>\n",
       "      <td>No</td>\n",
       "      <td>Male</td>\n",
       "      <td>65-69</td>\n",
       "      <td>White</td>\n",
       "      <td>Yes</td>\n",
       "      <td>Yes</td>\n",
       "      <td>Fair</td>\n",
       "      <td>8.0</td>\n",
       "      <td>Yes</td>\n",
       "      <td>No</td>\n",
       "      <td>No</td>\n",
       "    </tr>\n",
       "    <tr>\n",
       "      <th>3</th>\n",
       "      <td>No</td>\n",
       "      <td>24.21</td>\n",
       "      <td>No</td>\n",
       "      <td>No</td>\n",
       "      <td>No</td>\n",
       "      <td>0.0</td>\n",
       "      <td>0.0</td>\n",
       "      <td>No</td>\n",
       "      <td>Female</td>\n",
       "      <td>75-79</td>\n",
       "      <td>White</td>\n",
       "      <td>No</td>\n",
       "      <td>No</td>\n",
       "      <td>Good</td>\n",
       "      <td>6.0</td>\n",
       "      <td>No</td>\n",
       "      <td>No</td>\n",
       "      <td>Yes</td>\n",
       "    </tr>\n",
       "    <tr>\n",
       "      <th>4</th>\n",
       "      <td>No</td>\n",
       "      <td>23.71</td>\n",
       "      <td>No</td>\n",
       "      <td>No</td>\n",
       "      <td>No</td>\n",
       "      <td>28.0</td>\n",
       "      <td>0.0</td>\n",
       "      <td>Yes</td>\n",
       "      <td>Female</td>\n",
       "      <td>40-44</td>\n",
       "      <td>White</td>\n",
       "      <td>No</td>\n",
       "      <td>Yes</td>\n",
       "      <td>Very good</td>\n",
       "      <td>8.0</td>\n",
       "      <td>No</td>\n",
       "      <td>No</td>\n",
       "      <td>No</td>\n",
       "    </tr>\n",
       "  </tbody>\n",
       "</table>\n",
       "</div>"
      ],
      "text/plain": [
       "  HeartDisease    BMI Smoking AlcoholDrinking Stroke  PhysicalHealth  \\\n",
       "0           No  16.60     Yes              No     No             3.0   \n",
       "1           No  20.34      No              No    Yes             0.0   \n",
       "2           No  26.58     Yes              No     No            20.0   \n",
       "3           No  24.21      No              No     No             0.0   \n",
       "4           No  23.71      No              No     No            28.0   \n",
       "\n",
       "   MentalHealth DiffWalking     Sex  AgeCategory   Race Diabetic  \\\n",
       "0          30.0          No  Female        55-59  White      Yes   \n",
       "1           0.0          No  Female  80 or older  White       No   \n",
       "2          30.0          No    Male        65-69  White      Yes   \n",
       "3           0.0          No  Female        75-79  White       No   \n",
       "4           0.0         Yes  Female        40-44  White       No   \n",
       "\n",
       "  PhysicalActivity  GenHealth  SleepTime Asthma KidneyDisease SkinCancer  \n",
       "0              Yes  Very good        5.0    Yes            No        Yes  \n",
       "1              Yes  Very good        7.0     No            No         No  \n",
       "2              Yes       Fair        8.0    Yes            No         No  \n",
       "3               No       Good        6.0     No            No        Yes  \n",
       "4              Yes  Very good        8.0     No            No         No  "
      ]
     },
     "execution_count": 2,
     "metadata": {},
     "output_type": "execute_result"
    }
   ],
   "source": [
    "data = pd.read_csv('heart.csv')\n",
    "# Visualizing 5 rows\n",
    "data.head()"
   ]
  },
  {
   "cell_type": "markdown",
   "id": "1d11c462",
   "metadata": {},
   "source": [
    "<li>Features name & dataset information.</li>"
   ]
  },
  {
   "cell_type": "code",
   "execution_count": 3,
   "id": "8eaaaa1f",
   "metadata": {},
   "outputs": [
    {
     "name": "stdout",
     "output_type": "stream",
     "text": [
      "Index(['HeartDisease', 'BMI', 'Smoking', 'AlcoholDrinking', 'Stroke',\n",
      "       'PhysicalHealth', 'MentalHealth', 'DiffWalking', 'Sex', 'AgeCategory',\n",
      "       'Race', 'Diabetic', 'PhysicalActivity', 'GenHealth', 'SleepTime',\n",
      "       'Asthma', 'KidneyDisease', 'SkinCancer'],\n",
      "      dtype='object') \n",
      "\n"
     ]
    }
   ],
   "source": [
    "# Features name\n",
    "print(data.columns,'\\n')"
   ]
  },
  {
   "cell_type": "code",
   "execution_count": 4,
   "id": "431edf7d",
   "metadata": {},
   "outputs": [
    {
     "name": "stdout",
     "output_type": "stream",
     "text": [
      "HeartDisease         object\n",
      "BMI                 float64\n",
      "Smoking              object\n",
      "AlcoholDrinking      object\n",
      "Stroke               object\n",
      "PhysicalHealth      float64\n",
      "MentalHealth        float64\n",
      "DiffWalking          object\n",
      "Sex                  object\n",
      "AgeCategory          object\n",
      "Race                 object\n",
      "Diabetic             object\n",
      "PhysicalActivity     object\n",
      "GenHealth            object\n",
      "SleepTime           float64\n",
      "Asthma               object\n",
      "KidneyDisease        object\n",
      "SkinCancer           object\n",
      "dtype: object \n",
      "\n"
     ]
    }
   ],
   "source": [
    "# Features data type\n",
    "print(data.dtypes,'\\n')"
   ]
  },
  {
   "cell_type": "code",
   "execution_count": 5,
   "id": "856c6d5e",
   "metadata": {},
   "outputs": [
    {
     "name": "stdout",
     "output_type": "stream",
     "text": [
      "Shape =  (319795, 18) \n",
      "\n",
      "Dimension =  2 \n",
      "\n",
      "Size =  5756310\n"
     ]
    }
   ],
   "source": [
    "# Dataset capacity(row,columns)\n",
    "print(\"Shape = \",data.shape,'\\n')\n",
    "\n",
    "# Dataset dimension\n",
    "print(\"Dimension = \",data.ndim,'\\n')\n",
    "\n",
    "# Dataset size\n",
    "print(\"Size = \",data.size)"
   ]
  },
  {
   "cell_type": "markdown",
   "id": "0e0bbbb1",
   "metadata": {},
   "source": [
    "<h3>Data preprocessing</h3>written by <b>Eslam Mohamed</b>"
   ]
  },
  {
   "cell_type": "markdown",
   "id": "ff908ae0",
   "metadata": {},
   "source": [
    "<li>Checking for null or missing values</li>"
   ]
  },
  {
   "cell_type": "code",
   "execution_count": 6,
   "id": "6f0e2c78",
   "metadata": {},
   "outputs": [
    {
     "data": {
      "text/plain": [
       "HeartDisease        0\n",
       "BMI                 0\n",
       "Smoking             0\n",
       "AlcoholDrinking     0\n",
       "Stroke              0\n",
       "PhysicalHealth      0\n",
       "MentalHealth        0\n",
       "DiffWalking         0\n",
       "Sex                 0\n",
       "AgeCategory         0\n",
       "Race                0\n",
       "Diabetic            0\n",
       "PhysicalActivity    0\n",
       "GenHealth           0\n",
       "SleepTime           0\n",
       "Asthma              0\n",
       "KidneyDisease       0\n",
       "SkinCancer          0\n",
       "dtype: int64"
      ]
     },
     "execution_count": 6,
     "metadata": {},
     "output_type": "execute_result"
    }
   ],
   "source": [
    "# Checking the existance of null values\n",
    "data.isnull().sum()"
   ]
  },
  {
   "cell_type": "code",
   "execution_count": 7,
   "id": "fc4390a4",
   "metadata": {},
   "outputs": [],
   "source": [
    "old_data = data"
   ]
  },
  {
   "cell_type": "markdown",
   "id": "5bf68686",
   "metadata": {},
   "source": [
    "<li>Dropping unuseful features</li>"
   ]
  },
  {
   "cell_type": "code",
   "execution_count": 8,
   "id": "aa77cac7",
   "metadata": {},
   "outputs": [],
   "source": [
    "data = data.drop(['Race','AgeCategory','Diabetic','SkinCancer','MentalHealth','DiffWalking'],axis=1)"
   ]
  },
  {
   "cell_type": "markdown",
   "id": "1aba89e7",
   "metadata": {},
   "source": [
    "<li>Encoding categorical data using LabelEncoder</li>"
   ]
  },
  {
   "cell_type": "code",
   "execution_count": 9,
   "id": "8f12d093",
   "metadata": {},
   "outputs": [],
   "source": [
    "from sklearn.preprocessing import LabelEncoder as le\n",
    "new_data= pd.DataFrame()"
   ]
  },
  {
   "cell_type": "code",
   "execution_count": 10,
   "id": "2e67993d",
   "metadata": {},
   "outputs": [],
   "source": [
    "# Using LabelEncoder to encode columns with string values, then appending the new data to a new DataFrame\n",
    "x=0\n",
    "for i in range(12):\n",
    "    if data.iloc[:,i].dtype == 'object': ## excluding nominal columns\n",
    "        encoded_data = le()            ## creating a LabelEncoder object\n",
    "        encoded_data = encoded_data.fit_transform(data.iloc[:,i])  ## fitting the data\n",
    "        new_data.insert(x,data.columns[i],encoded_data) ## appending the coresponding column into the new DataFrame\n",
    "        \n",
    "    else: \n",
    "        new_data.insert(x,data.columns[i],data.iloc[:,i]) ## appending the column without any changes (Nominal value)\n",
    "    x+=1"
   ]
  },
  {
   "cell_type": "code",
   "execution_count": 11,
   "id": "df684f80",
   "metadata": {},
   "outputs": [
    {
     "data": {
      "text/html": [
       "<div>\n",
       "<style scoped>\n",
       "    .dataframe tbody tr th:only-of-type {\n",
       "        vertical-align: middle;\n",
       "    }\n",
       "\n",
       "    .dataframe tbody tr th {\n",
       "        vertical-align: top;\n",
       "    }\n",
       "\n",
       "    .dataframe thead th {\n",
       "        text-align: right;\n",
       "    }\n",
       "</style>\n",
       "<table border=\"1\" class=\"dataframe\">\n",
       "  <thead>\n",
       "    <tr style=\"text-align: right;\">\n",
       "      <th></th>\n",
       "      <th>HeartDisease</th>\n",
       "      <th>BMI</th>\n",
       "      <th>Smoking</th>\n",
       "      <th>AlcoholDrinking</th>\n",
       "      <th>Stroke</th>\n",
       "      <th>PhysicalHealth</th>\n",
       "      <th>Sex</th>\n",
       "      <th>PhysicalActivity</th>\n",
       "      <th>GenHealth</th>\n",
       "      <th>SleepTime</th>\n",
       "      <th>Asthma</th>\n",
       "      <th>KidneyDisease</th>\n",
       "    </tr>\n",
       "  </thead>\n",
       "  <tbody>\n",
       "    <tr>\n",
       "      <th>0</th>\n",
       "      <td>0</td>\n",
       "      <td>16.60</td>\n",
       "      <td>1</td>\n",
       "      <td>0</td>\n",
       "      <td>0</td>\n",
       "      <td>3.0</td>\n",
       "      <td>0</td>\n",
       "      <td>1</td>\n",
       "      <td>4</td>\n",
       "      <td>5.0</td>\n",
       "      <td>1</td>\n",
       "      <td>0</td>\n",
       "    </tr>\n",
       "    <tr>\n",
       "      <th>1</th>\n",
       "      <td>0</td>\n",
       "      <td>20.34</td>\n",
       "      <td>0</td>\n",
       "      <td>0</td>\n",
       "      <td>1</td>\n",
       "      <td>0.0</td>\n",
       "      <td>0</td>\n",
       "      <td>1</td>\n",
       "      <td>4</td>\n",
       "      <td>7.0</td>\n",
       "      <td>0</td>\n",
       "      <td>0</td>\n",
       "    </tr>\n",
       "    <tr>\n",
       "      <th>2</th>\n",
       "      <td>0</td>\n",
       "      <td>26.58</td>\n",
       "      <td>1</td>\n",
       "      <td>0</td>\n",
       "      <td>0</td>\n",
       "      <td>20.0</td>\n",
       "      <td>1</td>\n",
       "      <td>1</td>\n",
       "      <td>1</td>\n",
       "      <td>8.0</td>\n",
       "      <td>1</td>\n",
       "      <td>0</td>\n",
       "    </tr>\n",
       "    <tr>\n",
       "      <th>3</th>\n",
       "      <td>0</td>\n",
       "      <td>24.21</td>\n",
       "      <td>0</td>\n",
       "      <td>0</td>\n",
       "      <td>0</td>\n",
       "      <td>0.0</td>\n",
       "      <td>0</td>\n",
       "      <td>0</td>\n",
       "      <td>2</td>\n",
       "      <td>6.0</td>\n",
       "      <td>0</td>\n",
       "      <td>0</td>\n",
       "    </tr>\n",
       "    <tr>\n",
       "      <th>4</th>\n",
       "      <td>0</td>\n",
       "      <td>23.71</td>\n",
       "      <td>0</td>\n",
       "      <td>0</td>\n",
       "      <td>0</td>\n",
       "      <td>28.0</td>\n",
       "      <td>0</td>\n",
       "      <td>1</td>\n",
       "      <td>4</td>\n",
       "      <td>8.0</td>\n",
       "      <td>0</td>\n",
       "      <td>0</td>\n",
       "    </tr>\n",
       "  </tbody>\n",
       "</table>\n",
       "</div>"
      ],
      "text/plain": [
       "   HeartDisease    BMI  Smoking  AlcoholDrinking  Stroke  PhysicalHealth  Sex  \\\n",
       "0             0  16.60        1                0       0             3.0    0   \n",
       "1             0  20.34        0                0       1             0.0    0   \n",
       "2             0  26.58        1                0       0            20.0    1   \n",
       "3             0  24.21        0                0       0             0.0    0   \n",
       "4             0  23.71        0                0       0            28.0    0   \n",
       "\n",
       "   PhysicalActivity  GenHealth  SleepTime  Asthma  KidneyDisease  \n",
       "0                 1          4        5.0       1              0  \n",
       "1                 1          4        7.0       0              0  \n",
       "2                 1          1        8.0       1              0  \n",
       "3                 0          2        6.0       0              0  \n",
       "4                 1          4        8.0       0              0  "
      ]
     },
     "execution_count": 11,
     "metadata": {},
     "output_type": "execute_result"
    }
   ],
   "source": [
    "new_data.head()"
   ]
  },
  {
   "cell_type": "markdown",
   "id": "8801163b",
   "metadata": {},
   "source": [
    "<li>Extracting the label & input columns</li>"
   ]
  },
  {
   "cell_type": "code",
   "execution_count": 12,
   "id": "db557e78",
   "metadata": {},
   "outputs": [],
   "source": [
    "x = new_data.iloc[:,1:]\n",
    "y = new_data.iloc[:,0:1]"
   ]
  },
  {
   "cell_type": "markdown",
   "id": "0a41c6d5",
   "metadata": {},
   "source": [
    "<li>Splitting the data into training & test set</li>"
   ]
  },
  {
   "cell_type": "code",
   "execution_count": 13,
   "id": "a882ad6e",
   "metadata": {},
   "outputs": [],
   "source": [
    "from sklearn.model_selection import train_test_split\n",
    "x_train, x_test, y_train, y_test = train_test_split(x, y, test_size = 0.3, random_state=42)"
   ]
  },
  {
   "cell_type": "markdown",
   "id": "2e00d302",
   "metadata": {},
   "source": [
    "<li>Scaling the data using StandardScaler</li>"
   ]
  },
  {
   "cell_type": "code",
   "execution_count": 14,
   "id": "c0fb727d",
   "metadata": {},
   "outputs": [],
   "source": [
    "from sklearn.preprocessing import StandardScaler\n",
    "sc = StandardScaler()\n",
    "x_train = sc.fit_transform(x_train)\n",
    "x_test = sc.transform(x_test)"
   ]
  },
  {
   "cell_type": "code",
   "execution_count": 15,
   "id": "b043a019",
   "metadata": {},
   "outputs": [
    {
     "data": {
      "text/plain": [
       "array([[-1.22957612, -0.83872164, -0.27132819, ...,  0.6287943 ,\n",
       "        -0.3935923 , -0.19577244],\n",
       "       [ 0.39144951, -0.83872164, -0.27132819, ..., -0.06728309,\n",
       "        -0.3935923 ,  5.10797134],\n",
       "       [ 0.87728552, -0.83872164, -0.27132819, ..., -0.76336047,\n",
       "        -0.3935923 , -0.19577244],\n",
       "       ...,\n",
       "       [ 0.44962405,  1.19229068, -0.27132819, ...,  0.6287943 ,\n",
       "        -0.3935923 , -0.19577244],\n",
       "       [-0.95757085, -0.83872164, -0.27132819, ...,  0.6287943 ,\n",
       "        -0.3935923 , -0.19577244],\n",
       "       [ 1.26721215,  1.19229068, -0.27132819, ...,  0.6287943 ,\n",
       "         2.54070011, -0.19577244]])"
      ]
     },
     "execution_count": 15,
     "metadata": {},
     "output_type": "execute_result"
    }
   ],
   "source": [
    "x_train"
   ]
  },
  {
   "cell_type": "code",
   "execution_count": 16,
   "id": "289a7caf",
   "metadata": {},
   "outputs": [
    {
     "data": {
      "text/plain": [
       "array([[-0.11010934,  1.19229068, -0.27132819, ..., -0.06728309,\n",
       "        -0.3935923 , -0.19577244],\n",
       "       [-1.00316711, -0.83872164, -0.27132819, ..., -0.76336047,\n",
       "        -0.3935923 , -0.19577244],\n",
       "       [ 0.47006375,  1.19229068, -0.27132819, ..., -0.76336047,\n",
       "         2.54070011, -0.19577244],\n",
       "       ...,\n",
       "       [ 1.07853797, -0.83872164,  3.6855736 , ..., -1.45943786,\n",
       "        -0.3935923 , -0.19577244],\n",
       "       [-0.00633854, -0.83872164, -0.27132819, ...,  0.6287943 ,\n",
       "        -0.3935923 , -0.19577244],\n",
       "       [ 0.94332148, -0.83872164, -0.27132819, ..., -0.76336047,\n",
       "        -0.3935923 , -0.19577244]])"
      ]
     },
     "execution_count": 16,
     "metadata": {},
     "output_type": "execute_result"
    }
   ],
   "source": [
    "x_test"
   ]
  }
 ],
 "metadata": {
  "kernelspec": {
   "display_name": "Python 3 (ipykernel)",
   "language": "python",
   "name": "python3"
  },
  "language_info": {
   "codemirror_mode": {
    "name": "ipython",
    "version": 3
   },
   "file_extension": ".py",
   "mimetype": "text/x-python",
   "name": "python",
   "nbconvert_exporter": "python",
   "pygments_lexer": "ipython3",
   "version": "3.9.7"
  }
 },
 "nbformat": 4,
 "nbformat_minor": 5
}
